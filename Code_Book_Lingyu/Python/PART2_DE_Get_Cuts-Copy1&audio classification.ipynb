{
 "cells": [
  {
   "cell_type": "code",
   "execution_count": 1,
   "id": "d6128ae1",
   "metadata": {},
   "outputs": [
    {
     "name": "stdout",
     "output_type": "stream",
     "text": [
      "Requirement already satisfied: pydub in c:\\users\\asus\\anaconda3\\lib\\site-packages (0.25.1)\n"
     ]
    }
   ],
   "source": [
    "!pip install pydub"
   ]
  },
  {
   "cell_type": "code",
   "execution_count": 2,
   "id": "4571eb1d",
   "metadata": {},
   "outputs": [
    {
     "name": "stdout",
     "output_type": "stream",
     "text": [
      "Requirement already satisfied: librosa in c:\\users\\asus\\anaconda3\\lib\\site-packages (0.10.0.post2)\n",
      "Requirement already satisfied: joblib>=0.14 in c:\\users\\asus\\anaconda3\\lib\\site-packages (from librosa) (1.1.0)\n",
      "Requirement already satisfied: audioread>=2.1.9 in c:\\users\\asus\\anaconda3\\lib\\site-packages (from librosa) (3.0.0)\n",
      "Requirement already satisfied: numba>=0.51.0 in c:\\users\\asus\\anaconda3\\lib\\site-packages (from librosa) (0.55.1)\n",
      "Requirement already satisfied: soundfile>=0.12.1 in c:\\users\\asus\\anaconda3\\lib\\site-packages (from librosa) (0.12.1)\n",
      "Requirement already satisfied: pooch<1.7,>=1.0 in c:\\users\\asus\\anaconda3\\lib\\site-packages (from librosa) (1.6.0)\n",
      "Requirement already satisfied: soxr>=0.3.2 in c:\\users\\asus\\anaconda3\\lib\\site-packages (from librosa) (0.3.5)\n",
      "Requirement already satisfied: scipy>=1.2.0 in c:\\users\\asus\\anaconda3\\lib\\site-packages (from librosa) (1.9.1)\n",
      "Requirement already satisfied: lazy-loader>=0.1 in c:\\users\\asus\\anaconda3\\lib\\site-packages (from librosa) (0.2)\n",
      "Requirement already satisfied: msgpack>=1.0 in c:\\users\\asus\\anaconda3\\lib\\site-packages (from librosa) (1.0.3)\n",
      "Requirement already satisfied: decorator>=4.3.0 in c:\\users\\asus\\anaconda3\\lib\\site-packages (from librosa) (4.4.2)\n",
      "Requirement already satisfied: scikit-learn>=0.20.0 in c:\\users\\asus\\anaconda3\\lib\\site-packages (from librosa) (1.0.2)\n",
      "Requirement already satisfied: typing-extensions>=4.1.1 in c:\\users\\asus\\anaconda3\\lib\\site-packages (from librosa) (4.3.0)\n",
      "Requirement already satisfied: numpy!=1.22.0,!=1.22.1,!=1.22.2,>=1.20.3 in c:\\users\\asus\\anaconda3\\lib\\site-packages (from librosa) (1.21.5)\n",
      "Requirement already satisfied: setuptools in c:\\users\\asus\\anaconda3\\lib\\site-packages (from numba>=0.51.0->librosa) (63.4.1)\n",
      "Requirement already satisfied: llvmlite<0.39,>=0.38.0rc1 in c:\\users\\asus\\anaconda3\\lib\\site-packages (from numba>=0.51.0->librosa) (0.38.0)\n",
      "Requirement already satisfied: packaging>=20.0 in c:\\users\\asus\\anaconda3\\lib\\site-packages (from pooch<1.7,>=1.0->librosa) (21.3)\n",
      "Requirement already satisfied: appdirs>=1.3.0 in c:\\users\\asus\\anaconda3\\lib\\site-packages (from pooch<1.7,>=1.0->librosa) (1.4.4)\n",
      "Requirement already satisfied: requests>=2.19.0 in c:\\users\\asus\\anaconda3\\lib\\site-packages (from pooch<1.7,>=1.0->librosa) (2.28.1)\n",
      "Requirement already satisfied: threadpoolctl>=2.0.0 in c:\\users\\asus\\anaconda3\\lib\\site-packages (from scikit-learn>=0.20.0->librosa) (2.2.0)\n",
      "Requirement already satisfied: cffi>=1.0 in c:\\users\\asus\\anaconda3\\lib\\site-packages (from soundfile>=0.12.1->librosa) (1.15.1)\n",
      "Requirement already satisfied: pycparser in c:\\users\\asus\\anaconda3\\lib\\site-packages (from cffi>=1.0->soundfile>=0.12.1->librosa) (2.21)\n",
      "Requirement already satisfied: pyparsing!=3.0.5,>=2.0.2 in c:\\users\\asus\\anaconda3\\lib\\site-packages (from packaging>=20.0->pooch<1.7,>=1.0->librosa) (3.0.9)\n",
      "Requirement already satisfied: certifi>=2017.4.17 in c:\\users\\asus\\anaconda3\\lib\\site-packages (from requests>=2.19.0->pooch<1.7,>=1.0->librosa) (2022.9.14)\n",
      "Requirement already satisfied: idna<4,>=2.5 in c:\\users\\asus\\anaconda3\\lib\\site-packages (from requests>=2.19.0->pooch<1.7,>=1.0->librosa) (3.3)\n",
      "Requirement already satisfied: urllib3<1.27,>=1.21.1 in c:\\users\\asus\\anaconda3\\lib\\site-packages (from requests>=2.19.0->pooch<1.7,>=1.0->librosa) (1.26.11)\n",
      "Requirement already satisfied: charset-normalizer<3,>=2 in c:\\users\\asus\\anaconda3\\lib\\site-packages (from requests>=2.19.0->pooch<1.7,>=1.0->librosa) (2.0.4)\n"
     ]
    }
   ],
   "source": [
    "!pip install librosa"
   ]
  },
  {
   "cell_type": "code",
   "execution_count": 3,
   "id": "26b7b6c4",
   "metadata": {},
   "outputs": [
    {
     "name": "stdout",
     "output_type": "stream",
     "text": [
      "Requirement already satisfied: SoundFile in c:\\users\\asus\\anaconda3\\lib\\site-packages (0.12.1)\n",
      "Requirement already satisfied: cffi>=1.0 in c:\\users\\asus\\anaconda3\\lib\\site-packages (from SoundFile) (1.15.1)\n",
      "Requirement already satisfied: pycparser in c:\\users\\asus\\anaconda3\\lib\\site-packages (from cffi>=1.0->SoundFile) (2.21)\n"
     ]
    }
   ],
   "source": [
    "!pip install SoundFile"
   ]
  },
  {
   "cell_type": "code",
   "execution_count": 4,
   "id": "ac106407",
   "metadata": {},
   "outputs": [
    {
     "name": "stdout",
     "output_type": "stream",
     "text": [
      "Requirement already satisfied: fastdtw in c:\\users\\asus\\anaconda3\\lib\\site-packages (0.3.4)\n",
      "Requirement already satisfied: numpy in c:\\users\\asus\\anaconda3\\lib\\site-packages (from fastdtw) (1.21.5)\n"
     ]
    }
   ],
   "source": [
    "!pip install fastdtw"
   ]
  },
  {
   "cell_type": "code",
   "execution_count": 5,
   "id": "75402eb2",
   "metadata": {},
   "outputs": [],
   "source": [
    "import os\n",
    "import numpy as np\n",
    "import librosa\n",
    "import soundfile as sf\n",
    "\n",
    "import json\n",
    "\n",
    "import shutil\n",
    "\n",
    "from fastdtw import fastdtw\n",
    "\n",
    "import glob\n"
   ]
  },
  {
   "cell_type": "markdown",
   "id": "c8fdb12b",
   "metadata": {},
   "source": [
    "# E_Get_Cuts"
   ]
  },
  {
   "cell_type": "code",
   "execution_count": 6,
   "id": "4e8fac0e",
   "metadata": {},
   "outputs": [],
   "source": [
    "gray_values_list = [0.11594238132238388, 0.3915926218032837, 0.17946207523345947, 0.11579568684101105, 0.20035278797149658, 0.435150682926178, 0.1846507489681244, 0.10584469884634018, 0.0714426040649414, 0.4386752247810364, 0.7747208476066589, 0.7569605708122253, 0.8806381821632385, 0.7452989816665649, 0.8491743803024292, 0.8340145349502563, 0.8301460146903992, 0.8449164032936096, 0.612399160861969, 0.3856951594352722, 0.16029906272888184, 0.056268900632858276, 0.06105627864599228, 0.012285354547202587, 0.07373790442943573, 0.025469280779361725, 0.009900880977511406, 0.07399658113718033, 0.31513744592666626, 0.08416632562875748, 0.09452623128890991, 0.22724978625774384, 0.1494787335395813, 0.06788448989391327, 0.18561811745166779, 0.1157396137714386, 0.21956488490104675, 0.12330926209688187, 0.1472208946943283, 0.054550476372241974, 0.06711207330226898, 0.042803164571523666, 0.06836268305778503, 0.11239665001630783, 0.07547735422849655, 0.006306773517280817, 0.005367566365748644, 0.0209212526679039, 0.3068385124206543, 0.6169638633728027, 0.19812457263469696, 0.24464070796966553, 0.4563194215297699, 0.7609230279922485, 0.6695041656494141, 0.7427549362182617, 0.6097912192344666, 0.24915441870689392, 0.3276250958442688, 0.21614763140678406, 0.13737823069095612, 0.06740164756774902, 0.11052271723747253, 0.29452958703041077, 0.4031125009059906, 0.19935031235218048, 0.1064632385969162, 0.16320852935314178, 0.17940638959407806, 0.17115944623947144, 0.2269391119480133, 0.10786835849285126, 0.07634145766496658, 0.19346560537815094, 0.06558264791965485, 0.05629140883684158, 0.06454043090343475, 0.09128515422344208, 0.07176409661769867, 0.009945180267095566, 0.00992581807076931, 0.0143069913610816, 0.023299476131796837, 0.012910336256027222, 0.02659565582871437, 0.03556235879659653, 0.02303113043308258, 0.014162944629788399, 0.042469047009944916, 0.020663822069764137, 0.03078395128250122, 0.03882342204451561]"
   ]
  },
  {
   "cell_type": "code",
   "execution_count": 7,
   "id": "2edc72fe",
   "metadata": {},
   "outputs": [
    {
     "name": "stdout",
     "output_type": "stream",
     "text": [
      "Sample rate of the audio file: 48000 Hz\n",
      "Number of clips found: 3\n",
      "Saved clip: output_folder_cuts\\clip_1_0.00_2.29.wav\n",
      "Saved clip: output_folder_cuts\\clip_2_3.06_2.07.wav\n",
      "Saved clip: output_folder_cuts\\clip_3_5.24_2.62.wav\n"
     ]
    }
   ],
   "source": [
    "def get_sample_rate(audio_file):\n",
    "    _, sample_rate = librosa.load(audio_file, sr=None)\n",
    "    return sample_rate\n",
    "\n",
    "# Replace with the path to your audio file\n",
    "audio_file = 'Istanbul alley6.wav'\n",
    "sample_rate = get_sample_rate(audio_file)\n",
    "\n",
    "print(f\"Sample rate of the audio file: {sample_rate} Hz\")\n",
    "def crop_audio_by_grayscale(wav_file, grayscale_data, output_folder_cuts, threshold=0.1, min_duration=0.1, sample_rate=sample_rate, end_min_duration=2.0):\n",
    "    # Load the audio file\n",
    "    audio_data, sr = librosa.load(wav_file, sr=sample_rate)\n",
    "\n",
    "    # Calculate the time step (frame rate)\n",
    "    time_step = len(audio_data) / len(grayscale_data)\n",
    "\n",
    "    # Find the start and end points of the sound clips\n",
    "    clip_start = -1\n",
    "    clip_end = -1\n",
    "    clips = []\n",
    "\n",
    "    for i, value in enumerate(grayscale_data):\n",
    "        if value > threshold and clip_start == -1:\n",
    "            clip_start = i\n",
    "        elif value < threshold and clip_start != -1:\n",
    "            clip_end = i\n",
    "\n",
    "            # Check if the duration is greater than the end minimum duration\n",
    "            duration = (clip_end - clip_start) * time_step / sample_rate\n",
    "            if duration >= end_min_duration:\n",
    "                clips.append((clip_start, clip_end))\n",
    "                clip_start = -1\n",
    "\n",
    "    print(f\"Number of clips found: {len(clips)}\")\n",
    "\n",
    "    # Create the output folder if it doesn't exist\n",
    "    os.makedirs(output_folder_cuts, exist_ok=True)\n",
    "\n",
    "    # Crop and save the sound clips\n",
    "    for idx, (start, end) in enumerate(clips):\n",
    "        start_time = start * time_step / sample_rate\n",
    "        end_time = end * time_step / sample_rate\n",
    "        duration = end_time - start_time\n",
    "\n",
    "        # Check if the duration is greater than the minimum duration\n",
    "        if duration >= min_duration:\n",
    "            cropped_audio = audio_data[int(start * time_step):int(end * time_step)]\n",
    "            output_file = os.path.join(output_folder_cuts, f\"clip_{idx+1}_{start_time:.2f}_{duration:.2f}.wav\")\n",
    "            sf.write(output_file, cropped_audio, sample_rate)\n",
    "\n",
    "            print(f\"Saved clip: {output_file}\")\n",
    "        else:\n",
    "            print(f\"Clip {idx+1} with duration {duration:.2f}s is shorter than the minimum duration, so it was not saved.\")\n",
    "\n",
    "wav_file_name = audio_file\n",
    "grayscale_data = gray_values_list\n",
    "output_folder_cuts = 'output_folder_cuts'\n",
    "\n",
    "crop_audio_by_grayscale(wav_file_name, grayscale_data, output_folder_cuts)\n",
    "\n",
    "        "
   ]
  },
  {
   "cell_type": "markdown",
   "id": "766e46cb",
   "metadata": {},
   "source": [
    "# F_audio classification"
   ]
  },
  {
   "cell_type": "code",
   "execution_count": 8,
   "id": "236555db",
   "metadata": {},
   "outputs": [],
   "source": [
    "def searchForMatch(input_audio_name, input_feature_dict, library_feature_dict, key_segment_start, key_segment_stop, sr, nBestMatches=1, hop_length=512):\n",
    "    input_features = input_feature_dict[input_audio_name][:, key_segment_start:key_segment_stop]\n",
    "    best_matches = []\n",
    "\n",
    "    for library_audio_name, library_features in library_feature_dict.items():\n",
    "        min_dtw_distance = float('inf')\n",
    "        min_dtw_start = None\n",
    "        min_dtw_end = None\n",
    "\n",
    "        for i in range(library_features.shape[1] - input_features.shape[1] + 1):\n",
    "            segment_features = library_features[:, i:i + input_features.shape[1]]\n",
    "            distance, _ = fastdtw(input_features.T, segment_features.T)\n",
    "            if distance < min_dtw_distance:\n",
    "                min_dtw_distance = distance\n",
    "                min_dtw_start = i\n",
    "                min_dtw_end = i + input_features.shape[1]\n",
    "\n",
    "        best_matches.append((library_audio_name, min_dtw_start, min_dtw_end, min_dtw_distance))\n",
    "\n",
    "    best_matches.sort(key=lambda x: x[3])\n",
    "    best_match = best_matches[:nBestMatches][0]\n",
    "\n",
    "    return best_match[0], best_match[1] * hop_length / sr, best_match[2] * hop_length / sr\n"
   ]
  },
  {
   "cell_type": "code",
   "execution_count": 9,
   "id": "14d5bc90",
   "metadata": {},
   "outputs": [],
   "source": [
    "def main(input_folder, library_folder, output_folder, original_audio, sr=sample_rate, n_mels=128, hop_length=512):\n",
    "    # Load input audio files\n",
    "    input_audio_files = os.listdir(input_folder)\n",
    "    input_feature_dict = {}\n",
    "    for af in input_audio_files:\n",
    "        if af.split('.')[-1] in ['mp3', 'wav']:\n",
    "            logMelSpec = extractFeatures(os.path.join(input_folder, af), sr=sr, n_mels=n_mels, hop_length=hop_length)\n",
    "            input_feature_dict[af] = logMelSpec\n",
    "\n",
    "    # Load library audio files\n",
    "    library_audio_files = os.listdir(library_folder)\n",
    "    library_feature_dict = {}\n",
    "    for af in library_audio_files:\n",
    "        if af.split('.')[-1] in ['mp3', 'wav']:\n",
    "            logMelSpec = extractFeatures(os.path.join(library_folder, af), sr=sr, n_mels=n_mels, hop_length=hop_length)\n",
    "            library_feature_dict[af] = logMelSpec\n",
    "\n",
    "    # Compare input audio segments to library audio files\n",
    "    for input_audio_name, input_features in input_feature_dict.items():\n",
    "        key_segment_start = 0\n",
    "        key_segment_stop = input_features.shape[1]\n",
    "\n",
    "        match_audio_name, match_start, match_end = searchForMatch(\n",
    "            input_audio_name,\n",
    "            input_feature_dict,  # Use input_feature_dict instead of library_feature_dict for input audio\n",
    "            library_feature_dict,\n",
    "            key_segment_start,\n",
    "            key_segment_stop,\n",
    "            sr,\n",
    "            nBestMatches=1,\n",
    "            hop_length=hop_length,\n",
    "        )\n",
    "\n",
    "        print(f\"Input audio file: {input_audio_name}\")\n",
    "        print(f\"Most similar segment found in {match_audio_name}: {match_start:.2f}s - {match_end:.2f}s\")\n",
    "\n",
    "        # Export matched audio segment\n",
    "        match_audio_path = os.path.join(library_folder, match_audio_name)\n",
    "        output_audio_name = f\"{input_audio_name[:-4]}_{match_audio_name[:-4]}_{match_start:.2f}.wav\"\n",
    "        output_audio_path = os.path.join(output_folder, output_audio_name)\n",
    "        export_segment(match_audio_path, output_audio_path, match_start, match_end, sr)\n",
    "        \n",
    "# Concatenate matched audio segments according to the start times of the original audio clips\n",
    "    original_audio_data, _ = librosa.load(original_audio, sr=sr)\n",
    "    final_audio_data = np.zeros_like(original_audio_data)\n",
    "\n",
    "    for input_audio_name in input_audio_files:\n",
    "        if input_audio_name.split('.')[-1] in ['mp3', 'wav']:\n",
    "            start_time = float(input_audio_name.split('_')[-2])\n",
    "            input_audio_path = os.path.join(input_folder, input_audio_name)\n",
    "            input_audio_data, _ = librosa.load(input_audio_path, sr=sr)\n",
    "            input_audio_length = len(input_audio_data)\n",
    "\n",
    "            match_audio_name = f\"{input_audio_name[:-4]}_*.wav\"\n",
    "            match_audio_path = glob.glob(os.path.join(output_folder, match_audio_name))[0]\n",
    "            match_audio_data, _ = librosa.load(match_audio_path, sr=sr)\n",
    "\n",
    "            start_sample = int(start_time * sr)\n",
    "            final_audio_data[start_sample:start_sample + input_audio_length] = match_audio_data[:input_audio_length]\n",
    "\n",
    "    # Save the final concatenated audio\n",
    "    output_audio_path = os.path.join(output_folder, 'final_concatenated_audio.wav')\n",
    "    sf.write(output_audio_path, final_audio_data, sr)"
   ]
  },
  {
   "cell_type": "code",
   "execution_count": 10,
   "id": "3202bc12",
   "metadata": {},
   "outputs": [],
   "source": [
    "def extractFeatures(audioFile, sr, n_mels=128, hop_length=512):\n",
    "    y, sr = librosa.load(audioFile, sr=sr)\n",
    "    melSpec = librosa.feature.melspectrogram(y=y, sr=sr, n_mels=n_mels, hop_length=hop_length)\n",
    "\n",
    "    logMelSpec = librosa.power_to_db(melSpec, ref=np.max)\n",
    "    return logMelSpec\n",
    "\n",
    "def export_segment(audio_path, output_path, start_time, end_time, sr):\n",
    "    y, sr = librosa.load(audio_path, sr=sr)\n",
    "    start_sample = int(start_time * sr)\n",
    "    end_sample = int(end_time * sr)\n",
    "    y_segment = y[start_sample:end_sample]\n",
    "    sf.write(output_path, y_segment, sr)\n"
   ]
  },
  {
   "cell_type": "code",
   "execution_count": 14,
   "id": "c3ad3031",
   "metadata": {},
   "outputs": [
    {
     "name": "stdout",
     "output_type": "stream",
     "text": [
      "Input audio file: clip_1_0.00_2.29.wav\n",
      "Most similar segment found in 07-carnatic.wav: 2.78s - 5.08s\n",
      "Input audio file: clip_2_3.06_2.07.wav\n",
      "Most similar segment found in 06-narration.wav: 3.05s - 5.13s\n",
      "Input audio file: clip_3_5.24_2.62.wav\n",
      "Most similar segment found in 08-asian.wav: 2.05s - 4.67s\n"
     ]
    }
   ],
   "source": [
    "original_audio = audio_file\n",
    "input_folder = output_folder_cuts\n",
    "library_folder = \"audioexamples\"\n",
    "output_folder = \"output_folder_E\"\n",
    "main(input_folder, library_folder, output_folder, original_audio)\n"
   ]
  },
  {
   "cell_type": "code",
   "execution_count": null,
   "id": "31115927",
   "metadata": {},
   "outputs": [],
   "source": []
  }
 ],
 "metadata": {
  "kernelspec": {
   "display_name": "Python 3 (ipykernel)",
   "language": "python",
   "name": "python3"
  },
  "language_info": {
   "codemirror_mode": {
    "name": "ipython",
    "version": 3
   },
   "file_extension": ".py",
   "mimetype": "text/x-python",
   "name": "python",
   "nbconvert_exporter": "python",
   "pygments_lexer": "ipython3",
   "version": "3.9.13"
  }
 },
 "nbformat": 4,
 "nbformat_minor": 5
}
