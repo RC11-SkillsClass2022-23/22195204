{
 "cells": [
  {
   "cell_type": "code",
   "execution_count": 20,
   "id": "976f56b4",
   "metadata": {},
   "outputs": [
    {
     "name": "stdout",
     "output_type": "stream",
     "text": [
      "Group 0: ['vehicle', 'transport', 'train', 'bus']\n",
      "Group 1: ['speech', 'subway', 'vehicle ', 'bird', 'clickety']\n",
      "Group 2: ['animal', 'animals']\n",
      "Group 3: ['car', 'truck']\n",
      "Group 4: ['outside', 'inside']\n"
     ]
    }
   ],
   "source": [
    "from nltk.corpus import wordnet\n",
    "from sklearn.cluster import KMeans\n",
    "import numpy as np\n",
    "\n",
    "def group_words_by_meaning(words, num_groups):\n",
    "    # Create an empty matrix for the similarity scores\n",
    "    similarity_matrix = np.zeros((len(words), len(words)))\n",
    "\n",
    "    # Compute the path similarity between each pair of words\n",
    "    for i in range(len(words)):\n",
    "        for j in range(len(words)):\n",
    "            synsets1 = wordnet.synsets(words[i])\n",
    "            synsets2 = wordnet.synsets(words[j])\n",
    "\n",
    "            # Only compare the first synset of each word (the most common meaning)\n",
    "            if synsets1 and synsets2:  # Check if both words have at least one synset\n",
    "                similarity_score = synsets1[0].path_similarity(synsets2[0])\n",
    "\n",
    "                if similarity_score is not None:\n",
    "                    similarity_matrix[i][j] = similarity_score\n",
    "\n",
    "    # Use k-means clustering to group the words\n",
    "    kmeans = KMeans(n_clusters=num_groups, random_state=0).fit(similarity_matrix)\n",
    "\n",
    "    # Create the word groups\n",
    "    word_groups = [[] for _ in range(num_groups)]\n",
    "    for i in range(len(words)):\n",
    "        word_groups[kmeans.labels_[i]].append(words[i])\n",
    "\n",
    "    return word_groups\n",
    "\n",
    "# Example usage:\n",
    "words = ['speech', 'vehicle', 'transport', 'train', 'subway', 'car', 'animal', 'outside', 'bus', 'vehicle ', 'inside', 'bird', 'animals', 'clickety', 'truck']\n",
    "word_groups = group_words_by_meaning(words, 5)\n",
    "\n",
    "# Print the word groups\n",
    "for i, group in enumerate(word_groups):\n",
    "    print(f\"Group {i}: {group}\")\n"
   ]
  },
  {
   "cell_type": "code",
   "execution_count": 22,
   "id": "c27f1521",
   "metadata": {},
   "outputs": [
    {
     "name": "stdout",
     "output_type": "stream",
     "text": [
      "Group 0: ['outside', 'inside']\n",
      "Group 1: ['speech', 'subway', 'vehicle ', 'clickety']\n",
      "Group 2: ['animal', 'animals']\n",
      "Group 3: ['car', 'truck']\n",
      "Group 4: ['vehicle', 'transport', 'train', 'bus']\n",
      "Group 5: ['bird']\n"
     ]
    }
   ],
   "source": [
    "def group_words_by_meaning(words, num_groups):\n",
    "    # Create an empty matrix for the similarity scores\n",
    "    similarity_matrix = np.zeros((len(words), len(words)))\n",
    "\n",
    "    # Compute the path similarity between each pair of words\n",
    "    for i in range(len(words)):\n",
    "        for j in range(len(words)):\n",
    "            synsets1 = wordnet.synsets(words[i])\n",
    "            synsets2 = wordnet.synsets(words[j])\n",
    "\n",
    "            # Only compare the first synset of each word (the most common meaning)\n",
    "            if synsets1 and synsets2:  # Check if both words have at least one synset\n",
    "                similarity_score = synsets1[0].path_similarity(synsets2[0])\n",
    "\n",
    "                if similarity_score is not None:\n",
    "                    similarity_matrix[i][j] = similarity_score\n",
    "\n",
    "    # Use k-means clustering to group the words\n",
    "    kmeans = KMeans(n_clusters=num_groups, random_state=0).fit(similarity_matrix)\n",
    "\n",
    "    # Create the word groups\n",
    "    word_groups = [[] for _ in range(num_groups)]\n",
    "    for i in range(len(words)):\n",
    "        word_groups[kmeans.labels_[i]].append(words[i])\n",
    "\n",
    "    return word_groups\n",
    "\n",
    "# Example usage:\n",
    "words = ['speech', 'vehicle', 'transport', 'train', 'subway', 'car', 'animal', 'outside', 'bus', 'vehicle ', 'inside', 'bird', 'animals', 'clickety', 'truck']\n",
    "word_groups = group_words_by_meaning(words, 6)\n",
    "\n",
    "# Print the word groups\n",
    "for i, group in enumerate(word_groups):\n",
    "    print(f\"Group {i}: {group}\")"
   ]
  },
  {
   "cell_type": "code",
   "execution_count": 21,
   "id": "7339acb4",
   "metadata": {},
   "outputs": [
    {
     "name": "stdout",
     "output_type": "stream",
     "text": [
      "Group 0: ['train', 'bus']\n",
      "Group 1: ['animal', 'animals']\n",
      "Group 2: ['outside', 'inside']\n",
      "Group 3: ['speech', 'subway', 'vehicle ', 'clickety']\n",
      "Group 4: ['car', 'truck']\n",
      "Group 5: ['bird']\n",
      "Group 6: ['vehicle', 'transport']\n"
     ]
    }
   ],
   "source": [
    "def group_words_by_meaning(words, num_groups):\n",
    "    # Create an empty matrix for the similarity scores\n",
    "    similarity_matrix = np.zeros((len(words), len(words)))\n",
    "\n",
    "    # Compute the path similarity between each pair of words\n",
    "    for i in range(len(words)):\n",
    "        for j in range(len(words)):\n",
    "            synsets1 = wordnet.synsets(words[i])\n",
    "            synsets2 = wordnet.synsets(words[j])\n",
    "\n",
    "            # Only compare the first synset of each word (the most common meaning)\n",
    "            if synsets1 and synsets2:  # Check if both words have at least one synset\n",
    "                similarity_score = synsets1[0].path_similarity(synsets2[0])\n",
    "\n",
    "                if similarity_score is not None:\n",
    "                    similarity_matrix[i][j] = similarity_score\n",
    "\n",
    "    # Use k-means clustering to group the words\n",
    "    kmeans = KMeans(n_clusters=num_groups, random_state=0).fit(similarity_matrix)\n",
    "\n",
    "    # Create the word groups\n",
    "    word_groups = [[] for _ in range(num_groups)]\n",
    "    for i in range(len(words)):\n",
    "        word_groups[kmeans.labels_[i]].append(words[i])\n",
    "\n",
    "    return word_groups\n",
    "\n",
    "# Example usage:\n",
    "words = ['speech', 'vehicle', 'transport', 'train', 'subway', 'car', 'animal', 'outside', 'bus', 'vehicle ', 'inside', 'bird', 'animals', 'clickety', 'truck']\n",
    "word_groups = group_words_by_meaning(words, 7)\n",
    "\n",
    "# Print the word groups\n",
    "for i, group in enumerate(word_groups):\n",
    "    print(f\"Group {i}: {group}\")\n"
   ]
  },
  {
   "cell_type": "code",
   "execution_count": null,
   "id": "e20f9244",
   "metadata": {},
   "outputs": [],
   "source": []
  }
 ],
 "metadata": {
  "kernelspec": {
   "display_name": "Python 3 (ipykernel)",
   "language": "python",
   "name": "python3"
  },
  "language_info": {
   "codemirror_mode": {
    "name": "ipython",
    "version": 3
   },
   "file_extension": ".py",
   "mimetype": "text/x-python",
   "name": "python",
   "nbconvert_exporter": "python",
   "pygments_lexer": "ipython3",
   "version": "3.9.13"
  }
 },
 "nbformat": 4,
 "nbformat_minor": 5
}
