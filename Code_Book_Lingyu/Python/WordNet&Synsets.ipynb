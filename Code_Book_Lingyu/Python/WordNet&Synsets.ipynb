{
 "cells": [
  {
   "cell_type": "code",
   "execution_count": 3,
   "id": "66fbf925",
   "metadata": {},
   "outputs": [
    {
     "name": "stdout",
     "output_type": "stream",
     "text": [
      "Group 0: ['speech']\n",
      "Group 1: ['vehicle']\n",
      "Group 2: ['transport']\n",
      "Group 3: ['train', 'bus']\n",
      "Group 4: ['subway']\n",
      "Group 5: ['car', 'truck']\n",
      "Group 6: ['animal', 'animals']\n",
      "Group 7: ['outside', 'inside']\n",
      "Group 8: ['bird']\n"
     ]
    }
   ],
   "source": [
    "from nltk.corpus import wordnet\n",
    "def group_words_by_meaning(words):\n",
    "    word_groups = {}\n",
    "\n",
    "    for word in words:\n",
    "        word = word.lower()\n",
    "        synsets = wordnet.synsets(word)\n",
    "\n",
    "        if synsets: # Check if the word has at least one synset\n",
    "            # Get the first hypernym for the first synset of the word\n",
    "            hypernym = synsets[0].hypernyms()\n",
    "            if hypernym: # Check if the word has at least one hypernym\n",
    "                hypernym_name = hypernym[0].name().split('.')[0]\n",
    "\n",
    "                if hypernym_name in word_groups:\n",
    "                    word_groups[hypernym_name].append(word)\n",
    "                else:\n",
    "                    word_groups[hypernym_name] = [word]\n",
    "\n",
    "    # Convert dict to list\n",
    "    groups = list(word_groups.values())\n",
    "\n",
    "    return groups\n",
    "\n",
    "# Example usage:\n",
    "words = ['speech', 'vehicle', 'transport', 'train', 'subway', 'car', 'animal', 'outside', 'bus', 'vehicle ', 'inside', 'bird', 'animals', 'clickety', 'truck']\n",
    "word_groups = group_words_by_meaning(words)\n",
    "\n",
    "# Print the word groups\n",
    "for i, group in enumerate(word_groups):\n",
    "    print(f\"Group {i}: {group}\")\n",
    "\n",
    "\n"
   ]
  },
  {
   "cell_type": "code",
   "execution_count": null,
   "id": "543aff69",
   "metadata": {},
   "outputs": [],
   "source": []
  }
 ],
 "metadata": {
  "kernelspec": {
   "display_name": "Python 3 (ipykernel)",
   "language": "python",
   "name": "python3"
  },
  "language_info": {
   "codemirror_mode": {
    "name": "ipython",
    "version": 3
   },
   "file_extension": ".py",
   "mimetype": "text/x-python",
   "name": "python",
   "nbconvert_exporter": "python",
   "pygments_lexer": "ipython3",
   "version": "3.9.13"
  }
 },
 "nbformat": 4,
 "nbformat_minor": 5
}
