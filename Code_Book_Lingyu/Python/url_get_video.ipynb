{
 "cells": [
  {
   "cell_type": "code",
   "execution_count": 3,
   "id": "7d94d981",
   "metadata": {},
   "outputs": [],
   "source": [
    "from pathlib import Path\n",
    "from pytube import YouTube\n"
   ]
  },
  {
   "cell_type": "code",
   "execution_count": 4,
   "id": "26edeb7d",
   "metadata": {},
   "outputs": [
    {
     "name": "stdout",
     "output_type": "stream",
     "text": [
      "Requirement already satisfied: pytube in c:\\users\\asus\\anaconda3\\lib\\site-packages (12.1.3)\n"
     ]
    }
   ],
   "source": [
    "!pip install --upgrade pytube"
   ]
  },
  {
   "cell_type": "code",
   "execution_count": 5,
   "id": "4d9ba150",
   "metadata": {},
   "outputs": [
    {
     "name": "stdout",
     "output_type": "stream",
     "text": [
      "Requirement already satisfied: youtube-dl in c:\\users\\asus\\anaconda3\\lib\\site-packages (2021.12.17)\n"
     ]
    }
   ],
   "source": [
    "!pip install youtube-dl\n"
   ]
  },
  {
   "cell_type": "code",
   "execution_count": 6,
   "id": "7620ab6b",
   "metadata": {},
   "outputs": [
    {
     "name": "stdout",
     "output_type": "stream",
     "text": [
      "Requirement already satisfied: youtube-dl in c:\\users\\asus\\anaconda3\\lib\\site-packages (2021.12.17)\n"
     ]
    }
   ],
   "source": [
    "!pip install --upgrade youtube-dl\n"
   ]
  },
  {
   "cell_type": "code",
   "execution_count": 7,
   "id": "15a207bf",
   "metadata": {},
   "outputs": [
    {
     "name": "stdout",
     "output_type": "stream",
     "text": [
      "Requirement already satisfied: yt-dlp in c:\\users\\asus\\anaconda3\\lib\\site-packages (2023.3.4)\n",
      "Requirement already satisfied: certifi in c:\\users\\asus\\anaconda3\\lib\\site-packages (from yt-dlp) (2022.9.14)\n",
      "Requirement already satisfied: mutagen in c:\\users\\asus\\anaconda3\\lib\\site-packages (from yt-dlp) (1.46.0)\n",
      "Requirement already satisfied: websockets in c:\\users\\asus\\anaconda3\\lib\\site-packages (from yt-dlp) (11.0.2)\n",
      "Requirement already satisfied: pycryptodomex in c:\\users\\asus\\anaconda3\\lib\\site-packages (from yt-dlp) (3.17)\n",
      "Requirement already satisfied: brotli in c:\\users\\asus\\anaconda3\\lib\\site-packages (from yt-dlp) (1.0.9)\n"
     ]
    }
   ],
   "source": [
    "!pip install yt-dlp"
   ]
  },
  {
   "cell_type": "code",
   "execution_count": 8,
   "id": "34a5da40",
   "metadata": {},
   "outputs": [
    {
     "name": "stdout",
     "output_type": "stream",
     "text": [
      "Requirement already satisfied: opencv-python in c:\\users\\asus\\anaconda3\\lib\\site-packages (4.7.0.72)\n",
      "Requirement already satisfied: numpy>=1.17.0 in c:\\users\\asus\\anaconda3\\lib\\site-packages (from opencv-python) (1.21.5)\n"
     ]
    }
   ],
   "source": [
    "!pip install opencv-python"
   ]
  },
  {
   "cell_type": "code",
   "execution_count": 9,
   "id": "9d0dbbf8",
   "metadata": {},
   "outputs": [
    {
     "name": "stdout",
     "output_type": "stream",
     "text": [
      "Requirement already satisfied: ffmpeg in c:\\users\\asus\\anaconda3\\lib\\site-packages (1.4)\n"
     ]
    }
   ],
   "source": [
    "!pip install ffmpeg"
   ]
  },
  {
   "cell_type": "code",
   "execution_count": 10,
   "id": "4323b87e",
   "metadata": {},
   "outputs": [],
   "source": [
    "import cv2\n"
   ]
  },
  {
   "cell_type": "code",
   "execution_count": 12,
   "id": "033f145d",
   "metadata": {},
   "outputs": [],
   "source": [
    "imagepath = Path(\"C:/Users/ASUS/mapping/images\")\n",
    "imagepath.mkdir(exist_ok=True)"
   ]
  },
  {
   "cell_type": "code",
   "execution_count": 18,
   "id": "fbcd40f8",
   "metadata": {},
   "outputs": [
    {
     "name": "stdout",
     "output_type": "stream",
     "text": [
      "[youtube] Extracting URL: https://www.youtube.com/watch?v=AZH4VpUpsdU\n",
      "[youtube] AZH4VpUpsdU: Downloading webpage\n",
      "[youtube] AZH4VpUpsdU: Downloading android player API JSON\n",
      "[info] AZH4VpUpsdU: Downloading 1 format(s): 136+251\n",
      "[download] Balat, fashionable district, Istanbul [AZH4VpUpsdU].mp4 has already been downloaded\n",
      "[VideoConvertor] Not converting media file \"Balat, fashionable district, Istanbul [AZH4VpUpsdU].mp4\"; already is in target format mp4\n"
     ]
    }
   ],
   "source": [
    "import yt_dlp\n",
    "import os\n",
    "\n",
    "url = 'https://www.youtube.com/watch?v=AZH4VpUpsdU'\n",
    "\n",
    "# Replace this with the path to your ffmpeg.exe file\n",
    "ffmpeg_path = \"D:/UCL/Chorm/bin/ffmpeg.exe\"\n",
    "\n",
    "ydl_opts = {\n",
    "    'format': 'bestvideo+bestaudio/best',\n",
    "    'merge_output_format': 'mp4',\n",
    "    'postprocessors': [{\n",
    "        'key': 'FFmpegVideoConvertor',\n",
    "        'preferedformat': 'mp4',\n",
    "    }],\n",
    "    'ffmpeg_location': os.path.dirname(ffmpeg_path),\n",
    "}\n",
    "\n",
    "with yt_dlp.YoutubeDL(ydl_opts) as ydl:\n",
    "    ydl.download([url])\n"
   ]
  },
  {
   "cell_type": "code",
   "execution_count": 20,
   "id": "e073096e",
   "metadata": {},
   "outputs": [
    {
     "name": "stdout",
     "output_type": "stream",
     "text": [
      "[youtube] Extracting URL: https://www.youtube.com/watch?v=AZH4VpUpsdU\n",
      "[youtube] AZH4VpUpsdU: Downloading webpage\n",
      "[youtube] AZH4VpUpsdU: Downloading android player API JSON\n",
      "[info] AZH4VpUpsdU: Downloading 1 format(s): 136+251\n",
      "[dashsegments] Total fragments: 18\n",
      "[download] Destination: C:\\path\\to\\output\\directory\\Balat, fashionable district, Istanbul-AZH4VpUpsdU.f136.mp4\n",
      "[download] 100% of  177.46MiB in 00:00:17 at 10.18MiB/s                  \n",
      "[dashsegments] Total fragments: 2\n",
      "[download] Destination: C:\\path\\to\\output\\directory\\Balat, fashionable district, Istanbul-AZH4VpUpsdU.f251.webm\n",
      "[download] 100% of   10.15MiB in 00:00:00 at 11.77MiB/s              \n",
      "[Merger] Merging formats into \"C:\\path\\to\\output\\directory\\Balat, fashionable district, Istanbul-AZH4VpUpsdU.mp4\"\n",
      "Deleting original file C:\\path\\to\\output\\directory\\Balat, fashionable district, Istanbul-AZH4VpUpsdU.f136.mp4 (pass -k to keep)\n",
      "Deleting original file C:\\path\\to\\output\\directory\\Balat, fashionable district, Istanbul-AZH4VpUpsdU.f251.webm (pass -k to keep)\n",
      "[VideoConvertor] Not converting media file \"C:\\path\\to\\output\\directory\\Balat, fashionable district, Istanbul-AZH4VpUpsdU.mp4\"; already is in target format mp4\n"
     ]
    }
   ],
   "source": [
    "import yt_dlp\n",
    "import os\n",
    "\n",
    "url = 'https://www.youtube.com/watch?v=AZH4VpUpsdU'\n",
    "\n",
    "# Replace this with the path to your ffmpeg.exe file\n",
    "ffmpeg_path = \"D:/UCL/Chorm/bin/ffmpeg.exe\"\n",
    "\n",
    "# Set your desired output directory and filename format\n",
    "output_directory = 'C:\\\\path\\\\to\\\\output\\\\directory'\n",
    "output_template = os.path.join(output_directory, '%(title)s-%(id)s.%(ext)s')\n",
    "\n",
    "ydl_opts = {\n",
    "    'format': 'bestvideo+bestaudio/best',\n",
    "    'merge_output_format': 'mp4',\n",
    "    'postprocessors': [{\n",
    "        'key': 'FFmpegVideoConvertor',\n",
    "        'preferedformat': 'mp4',\n",
    "    }],\n",
    "    'ffmpeg_location': os.path.dirname(ffmpeg_path),\n",
    "    'outtmpl': output_template,\n",
    "}\n",
    "\n",
    "with yt_dlp.YoutubeDL(ydl_opts) as ydl:\n",
    "    ydl.download([url])\n"
   ]
  },
  {
   "cell_type": "code",
   "execution_count": 23,
   "id": "5c8b75b0",
   "metadata": {},
   "outputs": [
    {
     "name": "stdout",
     "output_type": "stream",
     "text": [
      "[youtube] Extracting URL: https://www.youtube.com/watch?v=AZH4VpUpsdU\n",
      "[youtube] AZH4VpUpsdU: Downloading webpage\n",
      "[youtube] AZH4VpUpsdU: Downloading android player API JSON\n",
      "[info] AZH4VpUpsdU: Downloading 1 format(s): 136+140\n",
      "[download] Balat, fashionable district, Istanbul.mp4 has already been downloaded\n"
     ]
    }
   ],
   "source": [
    "import yt_dlp\n",
    "import cv2\n",
    "import pathlib\n",
    "from pathlib import Path\n",
    "\n",
    "url = 'https://www.youtube.com/watch?v=AZH4VpUpsdU'\n",
    "\n",
    "ffmpeg_path = \"D:/UCL/Chorm/bin/ffmpeg.exe\"\n",
    "\n",
    "ydl_opts = {\n",
    "    'format': 'bestvideo[ext=mp4][height<=1080]+bestaudio[ext=m4a]/best[ext=mp4][height<=1080]',\n",
    "    'outtmpl': '%(title)s.%(ext)s',\n",
    "    'ffmpeg_location': 'D:/UCL/Chorm/bin/ffmpeg.exe',\n",
    "}\n",
    "\n",
    "with yt_dlp.YoutubeDL(ydl_opts) as ydl:\n",
    "    info_dict = ydl.extract_info(url, download=True)\n",
    "    title = ydl.prepare_filename(info_dict)\n",
    "\n",
    "imagepath = Path('images3')  # Replace 'images' with the desired directory path\n",
    "imagepath.mkdir(parents=True, exist_ok=True)\n",
    "\n",
    "cap = cv2.VideoCapture(title)\n",
    "frame_no = 0\n",
    "while cap.isOpened():\n",
    "    ret, frame = cap.read()\n",
    "    \n",
    "    if not ret:\n",
    "        break\n",
    "    \n",
    "    if frame_no % 8 == 0:\n",
    "        target = str(imagepath / f'{frame_no}.jpg')\n",
    "        cv2.imwrite(target, frame)\n",
    "    \n",
    "    frame_no += 1\n",
    "\n",
    "cap.release()\n",
    "\n"
   ]
  },
  {
   "cell_type": "code",
   "execution_count": null,
   "id": "a26e2a06",
   "metadata": {},
   "outputs": [],
   "source": [
    "#from local video get frames"
   ]
  },
  {
   "cell_type": "code",
   "execution_count": 1,
   "id": "6e13d3c9",
   "metadata": {},
   "outputs": [],
   "source": [
    "import cv2\n",
    "import pathlib\n",
    "from pathlib import Path\n",
    "\n",
    "# Replace this with the path to your local video file\n",
    "video_file_path = \"D:/UCL/skills/julian/videos/Lingyu_Zhai_Video.mp4\"\n",
    "\n",
    "imagepath = Path('D:/UCL/skills/julian/videos/videoframes')  # Replace 'images' with the desired directory path\n",
    "imagepath.mkdir(parents=True, exist_ok=True)\n",
    "\n",
    "cap = cv2.VideoCapture(video_file_path)\n",
    "fps = int(cap.get(cv2.CAP_PROP_FPS))\n",
    "\n",
    "# Calculate the starting frame number for 1 minute into the video\n",
    "start_frame_no = fps * 90  # 60 seconds = 1 minute\n",
    "\n",
    "frame_no = 0\n",
    "while cap.isOpened():\n",
    "    ret, frame = cap.read()\n",
    "    \n",
    "    if not ret:\n",
    "        break\n",
    "\n",
    "    # Start extracting frames from 1 minute into the video\n",
    "    if frame_no >= start_frame_no:\n",
    "        if (frame_no - start_frame_no) % 4 == 0:\n",
    "            target = str(imagepath / f'{frame_no}.jpg')\n",
    "            cv2.imwrite(target, frame)\n",
    "    \n",
    "    frame_no += 1\n",
    "\n",
    "cap.release()"
   ]
  },
  {
   "cell_type": "code",
   "execution_count": null,
   "id": "304e62ba",
   "metadata": {},
   "outputs": [],
   "source": []
  }
 ],
 "metadata": {
  "kernelspec": {
   "display_name": "Python 3 (ipykernel)",
   "language": "python",
   "name": "python3"
  },
  "language_info": {
   "codemirror_mode": {
    "name": "ipython",
    "version": 3
   },
   "file_extension": ".py",
   "mimetype": "text/x-python",
   "name": "python",
   "nbconvert_exporter": "python",
   "pygments_lexer": "ipython3",
   "version": "3.9.13"
  }
 },
 "nbformat": 4,
 "nbformat_minor": 5
}
